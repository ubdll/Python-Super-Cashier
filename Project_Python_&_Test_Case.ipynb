{
  "cells": [
    {
      "cell_type": "markdown",
      "metadata": {
        "id": "view-in-github",
        "colab_type": "text"
      },
      "source": [
        "<a href=\"https://colab.research.google.com/github/ubdll/Python-self-service-cashier/blob/main/Project_Python_%26_Test_Case.ipynb\" target=\"_parent\"><img src=\"https://colab.research.google.com/assets/colab-badge.svg\" alt=\"Open In Colab\"/></a>"
      ]
    },
    {
      "cell_type": "code",
      "execution_count": 649,
      "metadata": {
        "id": "q0SVaHdgGgco"
      },
      "outputs": [],
      "source": [
        "from prettytable import PrettyTable\n",
        "class Transaction:\n",
        "    def __init__(self):\n",
        "        self.items = []\n",
        "\n",
        "    def add_item(self, name, quantity, price):\n",
        "      '''fungsi untuk menambahkan item pada transaksi'''\n",
        "      if type(quantity)!=int: \n",
        "        print(\"Quantity harus berbentuk angka\") #validasi quantity harus berbentuk int\n",
        "      elif type(price)!=int:\n",
        "        print(\"Harga harus berbentuk angka\") #validasi harga harus berbentuk int\n",
        "      else:\n",
        "        self.items.append({'name': name, 'quantity': quantity, 'price': price})\n",
        "        print(\"Barang yang anda beli adalah:\")\n",
        "      for item in self.items:\n",
        "        print(item)\n",
        "        \n",
        "\n",
        "    def update_item_name(self, name, new_name):\n",
        "      '''fungsi untuk mengupdate nama item'''\n",
        "      for item in self.items:\n",
        "        if item['name'] == name:\n",
        "          item['name'] = new_name\n",
        "          #dari name ---> new_name\n",
        "          break\n",
        "      print(f\"nama dari {name} berubah menjadi {new_name}\" )\n",
        "              \n",
        "    def update_item_qty(self, name, new_qty):\n",
        "      '''fungsi untuk update quantity'''\n",
        "      for item in self.items:\n",
        "        if item['name'] == name:\n",
        "          item['quantity'] = new_qty\n",
        "      #dari quantity yg tertera dari name, dijadikan new_qty\n",
        "          break\n",
        "      print(f\"Quantity {name} berubah menjadi {new_qty}\")\n",
        "    \n",
        "    def update_item_price(self, name, new_price):\n",
        "      '''fungsi untuk update harga barang'''\n",
        "      for item in self.items:\n",
        "        if item['name'] == name:\n",
        "          item['price'] = new_price\n",
        "            #dari harga yg tertera dari name, dijadikan new_price\n",
        "          break\n",
        "\n",
        "    def delete_item(self, name):\n",
        "      '''fungsi untuk menghapus item'''\n",
        "      for item in self.items:\n",
        "          if item['name'] == name:\n",
        "            self.items.remove(item)\n",
        "      #menghapus item yg memiliki nama yang sama dengan nama yg di input\n",
        "            break\n",
        "      print(f\"{name} berhasil di hapus!\")\n",
        "        \n",
        "      for item in self.items:\n",
        "        print(item)\n",
        "\n",
        "    def reset_transaction(self):\n",
        "        '''fungsi untuk reset transaksi'''\n",
        "        self.items = []\n",
        "        print(\"semua item berhasil dihapus!\")\n",
        "\n",
        "    def get_total(self):\n",
        "        '''fungsi untuk menghitung total'''\n",
        "        total = 0\n",
        "        for item in self.items:\n",
        "            total += item['quantity'] * item['price']\n",
        "        #Quantity di tiap item dikali price\n",
        "        return total\n",
        "\n",
        "    def check_order(self):\n",
        "        '''fungsi untuk menghitung total.'''\n",
        "        for item in self.items:\n",
        "            if not item['name'] or not item['quantity'] or not item['price']:\n",
        "                print('Terdapat kesalahan input pada pemesanan!')\n",
        "                return\n",
        "        print(f'Pemesanan sudah benar.')\n",
        "        table = PrettyTable()\n",
        "        table.field_names = ['Nama', 'Kuantitas', 'Harga']\n",
        "        for item in self.items:\n",
        "          table.add_row([item['name'], item['quantity'], item['price']])\n",
        "        #Mengeluarkan tabel utk barang yang sudah dibeli\n",
        "        print(table)\n",
        "\n",
        "    def total_price(self):\n",
        "      '''fungsi untuk menghitung total harga transaksi'''\n",
        "      total = 0\n",
        "      for item in self.items:\n",
        "            total += item['quantity'] * item['price']\n",
        "      if total > 500_000:\n",
        "        discount = (total*0.1)\n",
        "        total = (total - discount)\n",
        "        print(f\"Total belanja Rp {total} dengan diskon 10%.\")        \n",
        "\n",
        "      elif total > 300_000:\n",
        "        discount = (total * 0.08)\n",
        "        total = (total - discount)\n",
        "        print(f\"Total belanja Rp {total} dengan diskon 8%.\")\n",
        "\n",
        "      elif total > 200_000:\n",
        "        discount = (total * 0.05)\n",
        "        total = int(total - discount)\n",
        "        print(f\"Total belanja Rp {total} dengan diskon 5%.\")\n",
        "\n",
        "      else:\n",
        "        print(f\"Total belanja Anda adalah Rp {total}.\")\n",
        "      for item in self.items:\n",
        "        print(item)"
      ]
    },
    {
      "cell_type": "code",
      "execution_count": 650,
      "metadata": {
        "id": "Fgk9_1zf3cIh"
      },
      "outputs": [],
      "source": [
        "trnsct_123 = Transaction()"
      ]
    },
    {
      "cell_type": "code",
      "source": [
        "trnsct_123.add_item(\"Ayam Goreng\",2,20000)"
      ],
      "metadata": {
        "id": "tLrAphtcDYjR",
        "colab": {
          "base_uri": "https://localhost:8080/"
        },
        "outputId": "f4496a64-6a33-4174-95d2-3f4a94958255"
      },
      "execution_count": 654,
      "outputs": [
        {
          "output_type": "stream",
          "name": "stdout",
          "text": [
            "Barang yang anda beli adalah:\n",
            "{'name': 'Ayam Goreng', 'quantity': 2, 'price': 20000}\n",
            "{'name': 'Mie Instan', 'quantity': 5, 'price': 3000}\n",
            "{'name': 'Ayam Goreng', 'quantity': 2, 'price': 20000}\n"
          ]
        }
      ]
    },
    {
      "cell_type": "code",
      "source": [
        "trnsct_123.add_item(\"Pasta Gigi\",3,15000)"
      ],
      "metadata": {
        "colab": {
          "base_uri": "https://localhost:8080/"
        },
        "id": "525qW0o0nIeI",
        "outputId": "947d4099-3788-45a4-ee84-fcb95b900947"
      },
      "execution_count": 655,
      "outputs": [
        {
          "output_type": "stream",
          "name": "stdout",
          "text": [
            "Barang yang anda beli adalah:\n",
            "{'name': 'Ayam Goreng', 'quantity': 2, 'price': 20000}\n",
            "{'name': 'Mie Instan', 'quantity': 5, 'price': 3000}\n",
            "{'name': 'Ayam Goreng', 'quantity': 2, 'price': 20000}\n",
            "{'name': 'Pasta Gigi', 'quantity': 3, 'price': 15000}\n"
          ]
        }
      ]
    },
    {
      "cell_type": "code",
      "source": [
        "trnsct_123.add_item(\"Mainan Mobil\",1,200_000)"
      ],
      "metadata": {
        "colab": {
          "base_uri": "https://localhost:8080/"
        },
        "id": "5jiAeRWGnLae",
        "outputId": "09125491-84dc-4d67-8576-06abd59faff7"
      },
      "execution_count": 656,
      "outputs": [
        {
          "output_type": "stream",
          "name": "stdout",
          "text": [
            "Barang yang anda beli adalah:\n",
            "{'name': 'Ayam Goreng', 'quantity': 2, 'price': 20000}\n",
            "{'name': 'Mie Instan', 'quantity': 5, 'price': 3000}\n",
            "{'name': 'Ayam Goreng', 'quantity': 2, 'price': 20000}\n",
            "{'name': 'Pasta Gigi', 'quantity': 3, 'price': 15000}\n",
            "{'name': 'Mainan Mobil', 'quantity': 1, 'price': 200000}\n"
          ]
        }
      ]
    },
    {
      "cell_type": "code",
      "source": [
        "trnsct_123.add_item(\"Mie Instan\",5,3000)"
      ],
      "metadata": {
        "colab": {
          "base_uri": "https://localhost:8080/"
        },
        "id": "buNdRDfEnU3n",
        "outputId": "46117494-6328-47de-b59b-ae314696e788"
      },
      "execution_count": 657,
      "outputs": [
        {
          "output_type": "stream",
          "name": "stdout",
          "text": [
            "Barang yang anda beli adalah:\n",
            "{'name': 'Ayam Goreng', 'quantity': 2, 'price': 20000}\n",
            "{'name': 'Mie Instan', 'quantity': 5, 'price': 3000}\n",
            "{'name': 'Ayam Goreng', 'quantity': 2, 'price': 20000}\n",
            "{'name': 'Pasta Gigi', 'quantity': 3, 'price': 15000}\n",
            "{'name': 'Mainan Mobil', 'quantity': 1, 'price': 200000}\n",
            "{'name': 'Mie Instan', 'quantity': 5, 'price': 3000}\n"
          ]
        }
      ]
    },
    {
      "cell_type": "code",
      "source": [
        "trnsct_123.update_item_name(\"Pasta Gigi\",\"Odol\")"
      ],
      "metadata": {
        "id": "nz1cGO7jFzON",
        "colab": {
          "base_uri": "https://localhost:8080/"
        },
        "outputId": "1018e579-241c-4f0a-c257-4c65cf9db32f"
      },
      "execution_count": 616,
      "outputs": [
        {
          "output_type": "stream",
          "name": "stdout",
          "text": [
            "nama dari Pasta Gigi berubah menjadi Odol\n"
          ]
        }
      ]
    },
    {
      "cell_type": "code",
      "source": [
        "trnsct_123.update_item_qty(\"Ayam Goreng\",5)"
      ],
      "metadata": {
        "id": "kn4C4MC4NGkR",
        "colab": {
          "base_uri": "https://localhost:8080/"
        },
        "outputId": "e06dc418-9098-45eb-ce09-849a6e90262e"
      },
      "execution_count": 609,
      "outputs": [
        {
          "output_type": "stream",
          "name": "stdout",
          "text": [
            "Quantity Ayam Goreng berubah menjadi 5\n"
          ]
        }
      ]
    },
    {
      "cell_type": "code",
      "source": [
        "trnsct_123.update_item_price(\"Ayam Goreng\",40000)"
      ],
      "metadata": {
        "id": "OK2XHuFxNR5n"
      },
      "execution_count": 611,
      "outputs": []
    },
    {
      "cell_type": "code",
      "source": [
        "trnsct_123.delete_item(\"Odol\")"
      ],
      "metadata": {
        "id": "jg18evIGNcNX",
        "colab": {
          "base_uri": "https://localhost:8080/"
        },
        "outputId": "6dd230ff-2f5c-4d56-8d39-51b197eb055d"
      },
      "execution_count": 612,
      "outputs": [
        {
          "output_type": "stream",
          "name": "stdout",
          "text": [
            "Odol berhasil di hapus!\n",
            "{'name': 'Ayam Goreng', 'quantity': 5, 'price': 40000}\n"
          ]
        }
      ]
    },
    {
      "cell_type": "code",
      "source": [
        "total = trnsct_123.get_total()\n",
        "print(f'Total price: {total}')"
      ],
      "metadata": {
        "colab": {
          "base_uri": "https://localhost:8080/"
        },
        "id": "y25zdn0HSrtU",
        "outputId": "c257cbc2-535c-49e6-e346-78e6e6c39da8"
      },
      "execution_count": 613,
      "outputs": [
        {
          "output_type": "stream",
          "name": "stdout",
          "text": [
            "Total price: 200000\n"
          ]
        }
      ]
    },
    {
      "cell_type": "code",
      "source": [
        "trnsct_123.reset_transaction()"
      ],
      "metadata": {
        "id": "wcD5RlTWSv77",
        "colab": {
          "base_uri": "https://localhost:8080/"
        },
        "outputId": "d33fa3f3-d496-4676-f704-a65e1297c9f7"
      },
      "execution_count": 652,
      "outputs": [
        {
          "output_type": "stream",
          "name": "stdout",
          "text": [
            "semua item berhasil dihapus!\n"
          ]
        }
      ]
    },
    {
      "cell_type": "code",
      "source": [
        "trnsct_123.check_order()"
      ],
      "metadata": {
        "colab": {
          "base_uri": "https://localhost:8080/"
        },
        "id": "5yw7cYvUUh8s",
        "outputId": "712381a8-e47a-4e4e-d29f-83d8a73bf6a6"
      },
      "execution_count": 658,
      "outputs": [
        {
          "output_type": "stream",
          "name": "stdout",
          "text": [
            "Pemesanan sudah benar.\n",
            "+--------------+-----------+--------+\n",
            "|     Nama     | Kuantitas | Harga  |\n",
            "+--------------+-----------+--------+\n",
            "| Ayam Goreng  |     2     | 20000  |\n",
            "|  Mie Instan  |     5     |  3000  |\n",
            "| Ayam Goreng  |     2     | 20000  |\n",
            "|  Pasta Gigi  |     3     | 15000  |\n",
            "| Mainan Mobil |     1     | 200000 |\n",
            "|  Mie Instan  |     5     |  3000  |\n",
            "+--------------+-----------+--------+\n"
          ]
        }
      ]
    },
    {
      "cell_type": "code",
      "source": [
        "trnsct_123.total_price()"
      ],
      "metadata": {
        "id": "QxdjIs3uWt06",
        "colab": {
          "base_uri": "https://localhost:8080/"
        },
        "outputId": "da42455d-f699-4ea2-9b74-c9b8098927dc"
      },
      "execution_count": 659,
      "outputs": [
        {
          "output_type": "stream",
          "name": "stdout",
          "text": [
            "Total belanja Rp 326600.0 dengan diskon 8%.\n",
            "{'name': 'Ayam Goreng', 'quantity': 2, 'price': 20000}\n",
            "{'name': 'Mie Instan', 'quantity': 5, 'price': 3000}\n",
            "{'name': 'Ayam Goreng', 'quantity': 2, 'price': 20000}\n",
            "{'name': 'Pasta Gigi', 'quantity': 3, 'price': 15000}\n",
            "{'name': 'Mainan Mobil', 'quantity': 1, 'price': 200000}\n",
            "{'name': 'Mie Instan', 'quantity': 5, 'price': 3000}\n"
          ]
        }
      ]
    }
  ],
  "metadata": {
    "colab": {
      "provenance": [],
      "include_colab_link": true
    },
    "kernelspec": {
      "display_name": "Python 3",
      "name": "python3"
    },
    "language_info": {
      "name": "python"
    }
  },
  "nbformat": 4,
  "nbformat_minor": 0
}